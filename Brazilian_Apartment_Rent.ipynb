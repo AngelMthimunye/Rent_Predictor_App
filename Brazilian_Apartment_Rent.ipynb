{
 "cells": [
  {
   "cell_type": "markdown",
   "metadata": {},
   "source": [
    "# Predicting The Rent for Brazilian Apartments"
   ]
  },
  {
   "cell_type": "code",
   "execution_count": 1,
   "metadata": {},
   "outputs": [],
   "source": [
    "import pandas as pd\n",
    "import numpy as np\n",
    "\n",
    "import matplotlib.pyplot as plt\n",
    "import seaborn as sns\n",
    "\n",
    "# Models\n",
    "from sklearn.tree import DecisionTreeRegressor\n",
    "from sklearn.ensemble import RandomForestRegressor\n",
    "from sklearn.linear_model import LinearRegression\n",
    "from sklearn.svm import SVR\n",
    "from sklearn.neighbors import KNeighborsRegressor\n",
    "from sklearn.linear_model import Lasso\n",
    "from sklearn.linear_model import Ridge\n",
    "from sklearn.model_selection import train_test_split\n",
    "import pickle\n",
    "\n",
    "# Metrics\n",
    "from sklearn.metrics import accuracy_score\n",
    "\n",
    "from sklearn.preprocessing import LabelEncoder"
   ]
  },
  {
   "cell_type": "markdown",
   "metadata": {},
   "source": [
    "# 1. Data Collection"
   ]
  },
  {
   "cell_type": "code",
   "execution_count": 2,
   "metadata": {},
   "outputs": [],
   "source": [
    "df = pd.read_csv(\"data/houses_to_rent.csv\")"
   ]
  },
  {
   "cell_type": "code",
   "execution_count": 3,
   "metadata": {},
   "outputs": [
    {
     "data": {
      "text/html": [
       "<div>\n",
       "<style scoped>\n",
       "    .dataframe tbody tr th:only-of-type {\n",
       "        vertical-align: middle;\n",
       "    }\n",
       "\n",
       "    .dataframe tbody tr th {\n",
       "        vertical-align: top;\n",
       "    }\n",
       "\n",
       "    .dataframe thead th {\n",
       "        text-align: right;\n",
       "    }\n",
       "</style>\n",
       "<table border=\"1\" class=\"dataframe\">\n",
       "  <thead>\n",
       "    <tr style=\"text-align: right;\">\n",
       "      <th></th>\n",
       "      <th>Unnamed: 0</th>\n",
       "      <th>city</th>\n",
       "      <th>area</th>\n",
       "      <th>rooms</th>\n",
       "      <th>bathroom</th>\n",
       "      <th>parking spaces</th>\n",
       "      <th>floor</th>\n",
       "      <th>animal</th>\n",
       "      <th>furniture</th>\n",
       "      <th>hoa</th>\n",
       "      <th>rent amount</th>\n",
       "      <th>property tax</th>\n",
       "      <th>fire insurance</th>\n",
       "      <th>total</th>\n",
       "    </tr>\n",
       "  </thead>\n",
       "  <tbody>\n",
       "    <tr>\n",
       "      <td>0</td>\n",
       "      <td>0</td>\n",
       "      <td>1</td>\n",
       "      <td>240</td>\n",
       "      <td>3</td>\n",
       "      <td>3</td>\n",
       "      <td>4</td>\n",
       "      <td>-</td>\n",
       "      <td>acept</td>\n",
       "      <td>furnished</td>\n",
       "      <td>R$0</td>\n",
       "      <td>R$8,000</td>\n",
       "      <td>R$1,000</td>\n",
       "      <td>R$121</td>\n",
       "      <td>R$9,121</td>\n",
       "    </tr>\n",
       "    <tr>\n",
       "      <td>1</td>\n",
       "      <td>1</td>\n",
       "      <td>0</td>\n",
       "      <td>64</td>\n",
       "      <td>2</td>\n",
       "      <td>1</td>\n",
       "      <td>1</td>\n",
       "      <td>10</td>\n",
       "      <td>acept</td>\n",
       "      <td>not furnished</td>\n",
       "      <td>R$540</td>\n",
       "      <td>R$820</td>\n",
       "      <td>R$122</td>\n",
       "      <td>R$11</td>\n",
       "      <td>R$1,493</td>\n",
       "    </tr>\n",
       "    <tr>\n",
       "      <td>2</td>\n",
       "      <td>2</td>\n",
       "      <td>1</td>\n",
       "      <td>443</td>\n",
       "      <td>5</td>\n",
       "      <td>5</td>\n",
       "      <td>4</td>\n",
       "      <td>3</td>\n",
       "      <td>acept</td>\n",
       "      <td>furnished</td>\n",
       "      <td>R$4,172</td>\n",
       "      <td>R$7,000</td>\n",
       "      <td>R$1,417</td>\n",
       "      <td>R$89</td>\n",
       "      <td>R$12,680</td>\n",
       "    </tr>\n",
       "    <tr>\n",
       "      <td>3</td>\n",
       "      <td>3</td>\n",
       "      <td>1</td>\n",
       "      <td>73</td>\n",
       "      <td>2</td>\n",
       "      <td>2</td>\n",
       "      <td>1</td>\n",
       "      <td>12</td>\n",
       "      <td>acept</td>\n",
       "      <td>not furnished</td>\n",
       "      <td>R$700</td>\n",
       "      <td>R$1,250</td>\n",
       "      <td>R$150</td>\n",
       "      <td>R$16</td>\n",
       "      <td>R$2,116</td>\n",
       "    </tr>\n",
       "    <tr>\n",
       "      <td>4</td>\n",
       "      <td>4</td>\n",
       "      <td>1</td>\n",
       "      <td>19</td>\n",
       "      <td>1</td>\n",
       "      <td>1</td>\n",
       "      <td>0</td>\n",
       "      <td>-</td>\n",
       "      <td>not acept</td>\n",
       "      <td>not furnished</td>\n",
       "      <td>R$0</td>\n",
       "      <td>R$1,200</td>\n",
       "      <td>R$41</td>\n",
       "      <td>R$16</td>\n",
       "      <td>R$1,257</td>\n",
       "    </tr>\n",
       "  </tbody>\n",
       "</table>\n",
       "</div>"
      ],
      "text/plain": [
       "   Unnamed: 0  city  area  rooms  bathroom  parking spaces floor     animal  \\\n",
       "0           0     1   240      3         3               4     -      acept   \n",
       "1           1     0    64      2         1               1    10      acept   \n",
       "2           2     1   443      5         5               4     3      acept   \n",
       "3           3     1    73      2         2               1    12      acept   \n",
       "4           4     1    19      1         1               0     -  not acept   \n",
       "\n",
       "       furniture      hoa rent amount property tax fire insurance     total  \n",
       "0      furnished      R$0     R$8,000      R$1,000          R$121   R$9,121  \n",
       "1  not furnished    R$540       R$820        R$122           R$11   R$1,493  \n",
       "2      furnished  R$4,172     R$7,000      R$1,417           R$89  R$12,680  \n",
       "3  not furnished    R$700     R$1,250        R$150           R$16   R$2,116  \n",
       "4  not furnished      R$0     R$1,200         R$41           R$16   R$1,257  "
      ]
     },
     "execution_count": 3,
     "metadata": {},
     "output_type": "execute_result"
    }
   ],
   "source": [
    "df.head()"
   ]
  },
  {
   "cell_type": "markdown",
   "metadata": {},
   "source": [
    "# 2. Data Cleaning"
   ]
  },
  {
   "cell_type": "code",
   "execution_count": 4,
   "metadata": {},
   "outputs": [
    {
     "data": {
      "text/plain": [
       "(6080, 14)"
      ]
     },
     "execution_count": 4,
     "metadata": {},
     "output_type": "execute_result"
    }
   ],
   "source": [
    "df.shape"
   ]
  },
  {
   "cell_type": "code",
   "execution_count": 5,
   "metadata": {},
   "outputs": [],
   "source": [
    "# drop Unnamed column\n",
    "df.drop([\"Unnamed: 0\"], axis = 1, inplace=True)"
   ]
  },
  {
   "cell_type": "code",
   "execution_count": 6,
   "metadata": {},
   "outputs": [
    {
     "data": {
      "text/html": [
       "<div>\n",
       "<style scoped>\n",
       "    .dataframe tbody tr th:only-of-type {\n",
       "        vertical-align: middle;\n",
       "    }\n",
       "\n",
       "    .dataframe tbody tr th {\n",
       "        vertical-align: top;\n",
       "    }\n",
       "\n",
       "    .dataframe thead th {\n",
       "        text-align: right;\n",
       "    }\n",
       "</style>\n",
       "<table border=\"1\" class=\"dataframe\">\n",
       "  <thead>\n",
       "    <tr style=\"text-align: right;\">\n",
       "      <th></th>\n",
       "      <th>city</th>\n",
       "      <th>area</th>\n",
       "      <th>rooms</th>\n",
       "      <th>bathroom</th>\n",
       "      <th>parking spaces</th>\n",
       "      <th>floor</th>\n",
       "      <th>animal</th>\n",
       "      <th>furniture</th>\n",
       "      <th>hoa</th>\n",
       "      <th>rent amount</th>\n",
       "      <th>property tax</th>\n",
       "      <th>fire insurance</th>\n",
       "      <th>total</th>\n",
       "    </tr>\n",
       "  </thead>\n",
       "  <tbody>\n",
       "    <tr>\n",
       "      <td>0</td>\n",
       "      <td>1</td>\n",
       "      <td>240</td>\n",
       "      <td>3</td>\n",
       "      <td>3</td>\n",
       "      <td>4</td>\n",
       "      <td>-</td>\n",
       "      <td>acept</td>\n",
       "      <td>furnished</td>\n",
       "      <td>R$0</td>\n",
       "      <td>R$8,000</td>\n",
       "      <td>R$1,000</td>\n",
       "      <td>R$121</td>\n",
       "      <td>R$9,121</td>\n",
       "    </tr>\n",
       "    <tr>\n",
       "      <td>1</td>\n",
       "      <td>0</td>\n",
       "      <td>64</td>\n",
       "      <td>2</td>\n",
       "      <td>1</td>\n",
       "      <td>1</td>\n",
       "      <td>10</td>\n",
       "      <td>acept</td>\n",
       "      <td>not furnished</td>\n",
       "      <td>R$540</td>\n",
       "      <td>R$820</td>\n",
       "      <td>R$122</td>\n",
       "      <td>R$11</td>\n",
       "      <td>R$1,493</td>\n",
       "    </tr>\n",
       "    <tr>\n",
       "      <td>2</td>\n",
       "      <td>1</td>\n",
       "      <td>443</td>\n",
       "      <td>5</td>\n",
       "      <td>5</td>\n",
       "      <td>4</td>\n",
       "      <td>3</td>\n",
       "      <td>acept</td>\n",
       "      <td>furnished</td>\n",
       "      <td>R$4,172</td>\n",
       "      <td>R$7,000</td>\n",
       "      <td>R$1,417</td>\n",
       "      <td>R$89</td>\n",
       "      <td>R$12,680</td>\n",
       "    </tr>\n",
       "    <tr>\n",
       "      <td>3</td>\n",
       "      <td>1</td>\n",
       "      <td>73</td>\n",
       "      <td>2</td>\n",
       "      <td>2</td>\n",
       "      <td>1</td>\n",
       "      <td>12</td>\n",
       "      <td>acept</td>\n",
       "      <td>not furnished</td>\n",
       "      <td>R$700</td>\n",
       "      <td>R$1,250</td>\n",
       "      <td>R$150</td>\n",
       "      <td>R$16</td>\n",
       "      <td>R$2,116</td>\n",
       "    </tr>\n",
       "    <tr>\n",
       "      <td>4</td>\n",
       "      <td>1</td>\n",
       "      <td>19</td>\n",
       "      <td>1</td>\n",
       "      <td>1</td>\n",
       "      <td>0</td>\n",
       "      <td>-</td>\n",
       "      <td>not acept</td>\n",
       "      <td>not furnished</td>\n",
       "      <td>R$0</td>\n",
       "      <td>R$1,200</td>\n",
       "      <td>R$41</td>\n",
       "      <td>R$16</td>\n",
       "      <td>R$1,257</td>\n",
       "    </tr>\n",
       "  </tbody>\n",
       "</table>\n",
       "</div>"
      ],
      "text/plain": [
       "   city  area  rooms  bathroom  parking spaces floor     animal  \\\n",
       "0     1   240      3         3               4     -      acept   \n",
       "1     0    64      2         1               1    10      acept   \n",
       "2     1   443      5         5               4     3      acept   \n",
       "3     1    73      2         2               1    12      acept   \n",
       "4     1    19      1         1               0     -  not acept   \n",
       "\n",
       "       furniture      hoa rent amount property tax fire insurance     total  \n",
       "0      furnished      R$0     R$8,000      R$1,000          R$121   R$9,121  \n",
       "1  not furnished    R$540       R$820        R$122           R$11   R$1,493  \n",
       "2      furnished  R$4,172     R$7,000      R$1,417           R$89  R$12,680  \n",
       "3  not furnished    R$700     R$1,250        R$150           R$16   R$2,116  \n",
       "4  not furnished      R$0     R$1,200         R$41           R$16   R$1,257  "
      ]
     },
     "execution_count": 6,
     "metadata": {},
     "output_type": "execute_result"
    }
   ],
   "source": [
    "df.head()"
   ]
  },
  {
   "cell_type": "code",
   "execution_count": 7,
   "metadata": {},
   "outputs": [
    {
     "data": {
      "text/plain": [
       "(6080, 13)"
      ]
     },
     "execution_count": 7,
     "metadata": {},
     "output_type": "execute_result"
    }
   ],
   "source": [
    "df.shape"
   ]
  },
  {
   "cell_type": "code",
   "execution_count": 8,
   "metadata": {},
   "outputs": [
    {
     "data": {
      "text/html": [
       "<div>\n",
       "<style scoped>\n",
       "    .dataframe tbody tr th:only-of-type {\n",
       "        vertical-align: middle;\n",
       "    }\n",
       "\n",
       "    .dataframe tbody tr th {\n",
       "        vertical-align: top;\n",
       "    }\n",
       "\n",
       "    .dataframe thead th {\n",
       "        text-align: right;\n",
       "    }\n",
       "</style>\n",
       "<table border=\"1\" class=\"dataframe\">\n",
       "  <thead>\n",
       "    <tr style=\"text-align: right;\">\n",
       "      <th></th>\n",
       "      <th>city</th>\n",
       "      <th>area</th>\n",
       "      <th>rooms</th>\n",
       "      <th>bathroom</th>\n",
       "      <th>parking spaces</th>\n",
       "    </tr>\n",
       "  </thead>\n",
       "  <tbody>\n",
       "    <tr>\n",
       "      <td>count</td>\n",
       "      <td>6080.000000</td>\n",
       "      <td>6080.000000</td>\n",
       "      <td>6080.000000</td>\n",
       "      <td>6080.000000</td>\n",
       "      <td>6080.000000</td>\n",
       "    </tr>\n",
       "    <tr>\n",
       "      <td>mean</td>\n",
       "      <td>0.863322</td>\n",
       "      <td>151.143914</td>\n",
       "      <td>2.492599</td>\n",
       "      <td>2.341612</td>\n",
       "      <td>1.756250</td>\n",
       "    </tr>\n",
       "    <tr>\n",
       "      <td>std</td>\n",
       "      <td>0.343535</td>\n",
       "      <td>375.559485</td>\n",
       "      <td>1.129665</td>\n",
       "      <td>1.438860</td>\n",
       "      <td>1.611909</td>\n",
       "    </tr>\n",
       "    <tr>\n",
       "      <td>min</td>\n",
       "      <td>0.000000</td>\n",
       "      <td>10.000000</td>\n",
       "      <td>1.000000</td>\n",
       "      <td>1.000000</td>\n",
       "      <td>0.000000</td>\n",
       "    </tr>\n",
       "    <tr>\n",
       "      <td>25%</td>\n",
       "      <td>1.000000</td>\n",
       "      <td>58.000000</td>\n",
       "      <td>2.000000</td>\n",
       "      <td>1.000000</td>\n",
       "      <td>1.000000</td>\n",
       "    </tr>\n",
       "    <tr>\n",
       "      <td>50%</td>\n",
       "      <td>1.000000</td>\n",
       "      <td>100.000000</td>\n",
       "      <td>3.000000</td>\n",
       "      <td>2.000000</td>\n",
       "      <td>1.000000</td>\n",
       "    </tr>\n",
       "    <tr>\n",
       "      <td>75%</td>\n",
       "      <td>1.000000</td>\n",
       "      <td>200.000000</td>\n",
       "      <td>3.000000</td>\n",
       "      <td>3.000000</td>\n",
       "      <td>2.000000</td>\n",
       "    </tr>\n",
       "    <tr>\n",
       "      <td>max</td>\n",
       "      <td>1.000000</td>\n",
       "      <td>24606.000000</td>\n",
       "      <td>10.000000</td>\n",
       "      <td>10.000000</td>\n",
       "      <td>12.000000</td>\n",
       "    </tr>\n",
       "  </tbody>\n",
       "</table>\n",
       "</div>"
      ],
      "text/plain": [
       "              city          area        rooms     bathroom  parking spaces\n",
       "count  6080.000000   6080.000000  6080.000000  6080.000000     6080.000000\n",
       "mean      0.863322    151.143914     2.492599     2.341612        1.756250\n",
       "std       0.343535    375.559485     1.129665     1.438860        1.611909\n",
       "min       0.000000     10.000000     1.000000     1.000000        0.000000\n",
       "25%       1.000000     58.000000     2.000000     1.000000        1.000000\n",
       "50%       1.000000    100.000000     3.000000     2.000000        1.000000\n",
       "75%       1.000000    200.000000     3.000000     3.000000        2.000000\n",
       "max       1.000000  24606.000000    10.000000    10.000000       12.000000"
      ]
     },
     "execution_count": 8,
     "metadata": {},
     "output_type": "execute_result"
    }
   ],
   "source": [
    "df.describe()"
   ]
  },
  {
   "cell_type": "code",
   "execution_count": 9,
   "metadata": {},
   "outputs": [],
   "source": [
    "# Replacing dash with null in columns\n",
    "df.replace(\"-\", np.nan, inplace=True)"
   ]
  },
  {
   "cell_type": "code",
   "execution_count": 10,
   "metadata": {},
   "outputs": [
    {
     "data": {
      "text/html": [
       "<div>\n",
       "<style scoped>\n",
       "    .dataframe tbody tr th:only-of-type {\n",
       "        vertical-align: middle;\n",
       "    }\n",
       "\n",
       "    .dataframe tbody tr th {\n",
       "        vertical-align: top;\n",
       "    }\n",
       "\n",
       "    .dataframe thead th {\n",
       "        text-align: right;\n",
       "    }\n",
       "</style>\n",
       "<table border=\"1\" class=\"dataframe\">\n",
       "  <thead>\n",
       "    <tr style=\"text-align: right;\">\n",
       "      <th></th>\n",
       "      <th>city</th>\n",
       "      <th>area</th>\n",
       "      <th>rooms</th>\n",
       "      <th>bathroom</th>\n",
       "      <th>parking spaces</th>\n",
       "      <th>floor</th>\n",
       "      <th>animal</th>\n",
       "      <th>furniture</th>\n",
       "      <th>hoa</th>\n",
       "      <th>rent amount</th>\n",
       "      <th>property tax</th>\n",
       "      <th>fire insurance</th>\n",
       "      <th>total</th>\n",
       "    </tr>\n",
       "  </thead>\n",
       "  <tbody>\n",
       "    <tr>\n",
       "      <td>0</td>\n",
       "      <td>1</td>\n",
       "      <td>240</td>\n",
       "      <td>3</td>\n",
       "      <td>3</td>\n",
       "      <td>4</td>\n",
       "      <td>NaN</td>\n",
       "      <td>acept</td>\n",
       "      <td>furnished</td>\n",
       "      <td>R$0</td>\n",
       "      <td>R$8,000</td>\n",
       "      <td>R$1,000</td>\n",
       "      <td>R$121</td>\n",
       "      <td>R$9,121</td>\n",
       "    </tr>\n",
       "    <tr>\n",
       "      <td>1</td>\n",
       "      <td>0</td>\n",
       "      <td>64</td>\n",
       "      <td>2</td>\n",
       "      <td>1</td>\n",
       "      <td>1</td>\n",
       "      <td>10</td>\n",
       "      <td>acept</td>\n",
       "      <td>not furnished</td>\n",
       "      <td>R$540</td>\n",
       "      <td>R$820</td>\n",
       "      <td>R$122</td>\n",
       "      <td>R$11</td>\n",
       "      <td>R$1,493</td>\n",
       "    </tr>\n",
       "    <tr>\n",
       "      <td>2</td>\n",
       "      <td>1</td>\n",
       "      <td>443</td>\n",
       "      <td>5</td>\n",
       "      <td>5</td>\n",
       "      <td>4</td>\n",
       "      <td>3</td>\n",
       "      <td>acept</td>\n",
       "      <td>furnished</td>\n",
       "      <td>R$4,172</td>\n",
       "      <td>R$7,000</td>\n",
       "      <td>R$1,417</td>\n",
       "      <td>R$89</td>\n",
       "      <td>R$12,680</td>\n",
       "    </tr>\n",
       "    <tr>\n",
       "      <td>3</td>\n",
       "      <td>1</td>\n",
       "      <td>73</td>\n",
       "      <td>2</td>\n",
       "      <td>2</td>\n",
       "      <td>1</td>\n",
       "      <td>12</td>\n",
       "      <td>acept</td>\n",
       "      <td>not furnished</td>\n",
       "      <td>R$700</td>\n",
       "      <td>R$1,250</td>\n",
       "      <td>R$150</td>\n",
       "      <td>R$16</td>\n",
       "      <td>R$2,116</td>\n",
       "    </tr>\n",
       "    <tr>\n",
       "      <td>4</td>\n",
       "      <td>1</td>\n",
       "      <td>19</td>\n",
       "      <td>1</td>\n",
       "      <td>1</td>\n",
       "      <td>0</td>\n",
       "      <td>NaN</td>\n",
       "      <td>not acept</td>\n",
       "      <td>not furnished</td>\n",
       "      <td>R$0</td>\n",
       "      <td>R$1,200</td>\n",
       "      <td>R$41</td>\n",
       "      <td>R$16</td>\n",
       "      <td>R$1,257</td>\n",
       "    </tr>\n",
       "  </tbody>\n",
       "</table>\n",
       "</div>"
      ],
      "text/plain": [
       "   city  area  rooms  bathroom  parking spaces floor     animal  \\\n",
       "0     1   240      3         3               4   NaN      acept   \n",
       "1     0    64      2         1               1    10      acept   \n",
       "2     1   443      5         5               4     3      acept   \n",
       "3     1    73      2         2               1    12      acept   \n",
       "4     1    19      1         1               0   NaN  not acept   \n",
       "\n",
       "       furniture      hoa rent amount property tax fire insurance     total  \n",
       "0      furnished      R$0     R$8,000      R$1,000          R$121   R$9,121  \n",
       "1  not furnished    R$540       R$820        R$122           R$11   R$1,493  \n",
       "2      furnished  R$4,172     R$7,000      R$1,417           R$89  R$12,680  \n",
       "3  not furnished    R$700     R$1,250        R$150           R$16   R$2,116  \n",
       "4  not furnished      R$0     R$1,200         R$41           R$16   R$1,257  "
      ]
     },
     "execution_count": 10,
     "metadata": {},
     "output_type": "execute_result"
    }
   ],
   "source": [
    "df.head()"
   ]
  },
  {
   "cell_type": "code",
   "execution_count": 11,
   "metadata": {},
   "outputs": [],
   "source": [
    "# Removing string signs next to numbers\n",
    "df.replace({'R': '','\\$': '', ',': ''}, regex=True, inplace=True)"
   ]
  },
  {
   "cell_type": "code",
   "execution_count": 12,
   "metadata": {},
   "outputs": [
    {
     "data": {
      "text/html": [
       "<div>\n",
       "<style scoped>\n",
       "    .dataframe tbody tr th:only-of-type {\n",
       "        vertical-align: middle;\n",
       "    }\n",
       "\n",
       "    .dataframe tbody tr th {\n",
       "        vertical-align: top;\n",
       "    }\n",
       "\n",
       "    .dataframe thead th {\n",
       "        text-align: right;\n",
       "    }\n",
       "</style>\n",
       "<table border=\"1\" class=\"dataframe\">\n",
       "  <thead>\n",
       "    <tr style=\"text-align: right;\">\n",
       "      <th></th>\n",
       "      <th>city</th>\n",
       "      <th>area</th>\n",
       "      <th>rooms</th>\n",
       "      <th>bathroom</th>\n",
       "      <th>parking spaces</th>\n",
       "      <th>floor</th>\n",
       "      <th>animal</th>\n",
       "      <th>furniture</th>\n",
       "      <th>hoa</th>\n",
       "      <th>rent amount</th>\n",
       "      <th>property tax</th>\n",
       "      <th>fire insurance</th>\n",
       "      <th>total</th>\n",
       "    </tr>\n",
       "  </thead>\n",
       "  <tbody>\n",
       "    <tr>\n",
       "      <td>0</td>\n",
       "      <td>1</td>\n",
       "      <td>240</td>\n",
       "      <td>3</td>\n",
       "      <td>3</td>\n",
       "      <td>4</td>\n",
       "      <td>NaN</td>\n",
       "      <td>acept</td>\n",
       "      <td>furnished</td>\n",
       "      <td>0</td>\n",
       "      <td>8000</td>\n",
       "      <td>1000</td>\n",
       "      <td>121</td>\n",
       "      <td>9121</td>\n",
       "    </tr>\n",
       "    <tr>\n",
       "      <td>1</td>\n",
       "      <td>0</td>\n",
       "      <td>64</td>\n",
       "      <td>2</td>\n",
       "      <td>1</td>\n",
       "      <td>1</td>\n",
       "      <td>10</td>\n",
       "      <td>acept</td>\n",
       "      <td>not furnished</td>\n",
       "      <td>540</td>\n",
       "      <td>820</td>\n",
       "      <td>122</td>\n",
       "      <td>11</td>\n",
       "      <td>1493</td>\n",
       "    </tr>\n",
       "    <tr>\n",
       "      <td>2</td>\n",
       "      <td>1</td>\n",
       "      <td>443</td>\n",
       "      <td>5</td>\n",
       "      <td>5</td>\n",
       "      <td>4</td>\n",
       "      <td>3</td>\n",
       "      <td>acept</td>\n",
       "      <td>furnished</td>\n",
       "      <td>4172</td>\n",
       "      <td>7000</td>\n",
       "      <td>1417</td>\n",
       "      <td>89</td>\n",
       "      <td>12680</td>\n",
       "    </tr>\n",
       "    <tr>\n",
       "      <td>3</td>\n",
       "      <td>1</td>\n",
       "      <td>73</td>\n",
       "      <td>2</td>\n",
       "      <td>2</td>\n",
       "      <td>1</td>\n",
       "      <td>12</td>\n",
       "      <td>acept</td>\n",
       "      <td>not furnished</td>\n",
       "      <td>700</td>\n",
       "      <td>1250</td>\n",
       "      <td>150</td>\n",
       "      <td>16</td>\n",
       "      <td>2116</td>\n",
       "    </tr>\n",
       "    <tr>\n",
       "      <td>4</td>\n",
       "      <td>1</td>\n",
       "      <td>19</td>\n",
       "      <td>1</td>\n",
       "      <td>1</td>\n",
       "      <td>0</td>\n",
       "      <td>NaN</td>\n",
       "      <td>not acept</td>\n",
       "      <td>not furnished</td>\n",
       "      <td>0</td>\n",
       "      <td>1200</td>\n",
       "      <td>41</td>\n",
       "      <td>16</td>\n",
       "      <td>1257</td>\n",
       "    </tr>\n",
       "  </tbody>\n",
       "</table>\n",
       "</div>"
      ],
      "text/plain": [
       "   city  area  rooms  bathroom  parking spaces floor     animal  \\\n",
       "0     1   240      3         3               4   NaN      acept   \n",
       "1     0    64      2         1               1    10      acept   \n",
       "2     1   443      5         5               4     3      acept   \n",
       "3     1    73      2         2               1    12      acept   \n",
       "4     1    19      1         1               0   NaN  not acept   \n",
       "\n",
       "       furniture   hoa rent amount property tax fire insurance  total  \n",
       "0      furnished     0        8000         1000            121   9121  \n",
       "1  not furnished   540         820          122             11   1493  \n",
       "2      furnished  4172        7000         1417             89  12680  \n",
       "3  not furnished   700        1250          150             16   2116  \n",
       "4  not furnished     0        1200           41             16   1257  "
      ]
     },
     "execution_count": 12,
     "metadata": {},
     "output_type": "execute_result"
    }
   ],
   "source": [
    "df.head()"
   ]
  },
  {
   "cell_type": "code",
   "execution_count": 13,
   "metadata": {},
   "outputs": [
    {
     "data": {
      "text/plain": [
       "city               int64\n",
       "area               int64\n",
       "rooms              int64\n",
       "bathroom           int64\n",
       "parking spaces     int64\n",
       "floor             object\n",
       "animal            object\n",
       "furniture         object\n",
       "hoa               object\n",
       "rent amount       object\n",
       "property tax      object\n",
       "fire insurance    object\n",
       "total             object\n",
       "dtype: object"
      ]
     },
     "execution_count": 13,
     "metadata": {},
     "output_type": "execute_result"
    }
   ],
   "source": [
    "df.dtypes"
   ]
  },
  {
   "cell_type": "code",
   "execution_count": 14,
   "metadata": {},
   "outputs": [
    {
     "data": {
      "text/html": [
       "<div>\n",
       "<style scoped>\n",
       "    .dataframe tbody tr th:only-of-type {\n",
       "        vertical-align: middle;\n",
       "    }\n",
       "\n",
       "    .dataframe tbody tr th {\n",
       "        vertical-align: top;\n",
       "    }\n",
       "\n",
       "    .dataframe thead th {\n",
       "        text-align: right;\n",
       "    }\n",
       "</style>\n",
       "<table border=\"1\" class=\"dataframe\">\n",
       "  <thead>\n",
       "    <tr style=\"text-align: right;\">\n",
       "      <th></th>\n",
       "      <th>floor</th>\n",
       "      <th>animal</th>\n",
       "      <th>furniture</th>\n",
       "      <th>hoa</th>\n",
       "      <th>rent amount</th>\n",
       "      <th>property tax</th>\n",
       "      <th>fire insurance</th>\n",
       "      <th>total</th>\n",
       "    </tr>\n",
       "  </thead>\n",
       "  <tbody>\n",
       "    <tr>\n",
       "      <td>0</td>\n",
       "      <td>NaN</td>\n",
       "      <td>acept</td>\n",
       "      <td>furnished</td>\n",
       "      <td>0</td>\n",
       "      <td>8000</td>\n",
       "      <td>1000</td>\n",
       "      <td>121</td>\n",
       "      <td>9121</td>\n",
       "    </tr>\n",
       "    <tr>\n",
       "      <td>1</td>\n",
       "      <td>10</td>\n",
       "      <td>acept</td>\n",
       "      <td>not furnished</td>\n",
       "      <td>540</td>\n",
       "      <td>820</td>\n",
       "      <td>122</td>\n",
       "      <td>11</td>\n",
       "      <td>1493</td>\n",
       "    </tr>\n",
       "    <tr>\n",
       "      <td>2</td>\n",
       "      <td>3</td>\n",
       "      <td>acept</td>\n",
       "      <td>furnished</td>\n",
       "      <td>4172</td>\n",
       "      <td>7000</td>\n",
       "      <td>1417</td>\n",
       "      <td>89</td>\n",
       "      <td>12680</td>\n",
       "    </tr>\n",
       "    <tr>\n",
       "      <td>3</td>\n",
       "      <td>12</td>\n",
       "      <td>acept</td>\n",
       "      <td>not furnished</td>\n",
       "      <td>700</td>\n",
       "      <td>1250</td>\n",
       "      <td>150</td>\n",
       "      <td>16</td>\n",
       "      <td>2116</td>\n",
       "    </tr>\n",
       "    <tr>\n",
       "      <td>4</td>\n",
       "      <td>NaN</td>\n",
       "      <td>not acept</td>\n",
       "      <td>not furnished</td>\n",
       "      <td>0</td>\n",
       "      <td>1200</td>\n",
       "      <td>41</td>\n",
       "      <td>16</td>\n",
       "      <td>1257</td>\n",
       "    </tr>\n",
       "    <tr>\n",
       "      <td>...</td>\n",
       "      <td>...</td>\n",
       "      <td>...</td>\n",
       "      <td>...</td>\n",
       "      <td>...</td>\n",
       "      <td>...</td>\n",
       "      <td>...</td>\n",
       "      <td>...</td>\n",
       "      <td>...</td>\n",
       "    </tr>\n",
       "    <tr>\n",
       "      <td>6075</td>\n",
       "      <td>2</td>\n",
       "      <td>acept</td>\n",
       "      <td>not furnished</td>\n",
       "      <td>420</td>\n",
       "      <td>1150</td>\n",
       "      <td>0</td>\n",
       "      <td>15</td>\n",
       "      <td>1585</td>\n",
       "    </tr>\n",
       "    <tr>\n",
       "      <td>6076</td>\n",
       "      <td>16</td>\n",
       "      <td>not acept</td>\n",
       "      <td>furnished</td>\n",
       "      <td>768</td>\n",
       "      <td>2900</td>\n",
       "      <td>63</td>\n",
       "      <td>37</td>\n",
       "      <td>3768</td>\n",
       "    </tr>\n",
       "    <tr>\n",
       "      <td>6077</td>\n",
       "      <td>13</td>\n",
       "      <td>acept</td>\n",
       "      <td>not furnished</td>\n",
       "      <td>250</td>\n",
       "      <td>950</td>\n",
       "      <td>42</td>\n",
       "      <td>13</td>\n",
       "      <td>1255</td>\n",
       "    </tr>\n",
       "    <tr>\n",
       "      <td>6078</td>\n",
       "      <td>NaN</td>\n",
       "      <td>not acept</td>\n",
       "      <td>not furnished</td>\n",
       "      <td>0</td>\n",
       "      <td>3500</td>\n",
       "      <td>250</td>\n",
       "      <td>53</td>\n",
       "      <td>3803</td>\n",
       "    </tr>\n",
       "    <tr>\n",
       "      <td>6079</td>\n",
       "      <td>4</td>\n",
       "      <td>acept</td>\n",
       "      <td>furnished</td>\n",
       "      <td>489</td>\n",
       "      <td>1900</td>\n",
       "      <td>0</td>\n",
       "      <td>25</td>\n",
       "      <td>2414</td>\n",
       "    </tr>\n",
       "  </tbody>\n",
       "</table>\n",
       "<p>6080 rows × 8 columns</p>\n",
       "</div>"
      ],
      "text/plain": [
       "     floor     animal      furniture   hoa rent amount property tax  \\\n",
       "0      NaN      acept      furnished     0        8000         1000   \n",
       "1       10      acept  not furnished   540         820          122   \n",
       "2        3      acept      furnished  4172        7000         1417   \n",
       "3       12      acept  not furnished   700        1250          150   \n",
       "4      NaN  not acept  not furnished     0        1200           41   \n",
       "...    ...        ...            ...   ...         ...          ...   \n",
       "6075     2      acept  not furnished   420        1150            0   \n",
       "6076    16  not acept      furnished   768        2900           63   \n",
       "6077    13      acept  not furnished   250         950           42   \n",
       "6078   NaN  not acept  not furnished     0        3500          250   \n",
       "6079     4      acept      furnished   489        1900            0   \n",
       "\n",
       "     fire insurance  total  \n",
       "0               121   9121  \n",
       "1                11   1493  \n",
       "2                89  12680  \n",
       "3                16   2116  \n",
       "4                16   1257  \n",
       "...             ...    ...  \n",
       "6075             15   1585  \n",
       "6076             37   3768  \n",
       "6077             13   1255  \n",
       "6078             53   3803  \n",
       "6079             25   2414  \n",
       "\n",
       "[6080 rows x 8 columns]"
      ]
     },
     "execution_count": 14,
     "metadata": {},
     "output_type": "execute_result"
    }
   ],
   "source": [
    "# Getting object dtype columns\n",
    "object_df = df.select_dtypes(include=['object'])\n",
    "object_df"
   ]
  },
  {
   "cell_type": "code",
   "execution_count": 15,
   "metadata": {},
   "outputs": [],
   "source": [
    "# Convert columns to numeric\n",
    "df[['rent amount','floor', 'fire insurance', 'total']] = df[['rent amount', 'floor', 'fire insurance', 'total']].apply(pd.to_numeric)"
   ]
  },
  {
   "cell_type": "code",
   "execution_count": 16,
   "metadata": {},
   "outputs": [
    {
     "data": {
      "text/plain": [
       "city                int64\n",
       "area                int64\n",
       "rooms               int64\n",
       "bathroom            int64\n",
       "parking spaces      int64\n",
       "floor             float64\n",
       "animal             object\n",
       "furniture          object\n",
       "hoa                object\n",
       "rent amount         int64\n",
       "property tax       object\n",
       "fire insurance      int64\n",
       "total               int64\n",
       "dtype: object"
      ]
     },
     "execution_count": 16,
     "metadata": {},
     "output_type": "execute_result"
    }
   ],
   "source": [
    "df.dtypes"
   ]
  },
  {
   "cell_type": "code",
   "execution_count": 17,
   "metadata": {},
   "outputs": [],
   "source": [
    "# Convert columns to numeric using errors='coerce' since columns contain strings\n",
    "df['hoa'] = pd.to_numeric(df['hoa'], errors='coerce')\n",
    "df['property tax'] = pd.to_numeric(df['property tax'], errors='coerce')"
   ]
  },
  {
   "cell_type": "code",
   "execution_count": 18,
   "metadata": {},
   "outputs": [
    {
     "data": {
      "text/plain": [
       "city                int64\n",
       "area                int64\n",
       "rooms               int64\n",
       "bathroom            int64\n",
       "parking spaces      int64\n",
       "floor             float64\n",
       "animal             object\n",
       "furniture          object\n",
       "hoa               float64\n",
       "rent amount         int64\n",
       "property tax      float64\n",
       "fire insurance      int64\n",
       "total               int64\n",
       "dtype: object"
      ]
     },
     "execution_count": 18,
     "metadata": {},
     "output_type": "execute_result"
    }
   ],
   "source": [
    "df.dtypes"
   ]
  },
  {
   "cell_type": "code",
   "execution_count": 19,
   "metadata": {},
   "outputs": [],
   "source": [
    "# Convert columns to categorical\n",
    "le = LabelEncoder()\n",
    "\n",
    "# apply le on categorical feature columns\n",
    "df[['animal', 'furniture']] = df[['animal', 'furniture']].apply(lambda col: le.fit_transform(col))"
   ]
  },
  {
   "cell_type": "code",
   "execution_count": 20,
   "metadata": {},
   "outputs": [
    {
     "data": {
      "text/html": [
       "<div>\n",
       "<style scoped>\n",
       "    .dataframe tbody tr th:only-of-type {\n",
       "        vertical-align: middle;\n",
       "    }\n",
       "\n",
       "    .dataframe tbody tr th {\n",
       "        vertical-align: top;\n",
       "    }\n",
       "\n",
       "    .dataframe thead th {\n",
       "        text-align: right;\n",
       "    }\n",
       "</style>\n",
       "<table border=\"1\" class=\"dataframe\">\n",
       "  <thead>\n",
       "    <tr style=\"text-align: right;\">\n",
       "      <th></th>\n",
       "      <th>city</th>\n",
       "      <th>area</th>\n",
       "      <th>rooms</th>\n",
       "      <th>bathroom</th>\n",
       "      <th>parking spaces</th>\n",
       "      <th>floor</th>\n",
       "      <th>animal</th>\n",
       "      <th>furniture</th>\n",
       "      <th>hoa</th>\n",
       "      <th>rent amount</th>\n",
       "      <th>property tax</th>\n",
       "      <th>fire insurance</th>\n",
       "      <th>total</th>\n",
       "    </tr>\n",
       "  </thead>\n",
       "  <tbody>\n",
       "    <tr>\n",
       "      <td>0</td>\n",
       "      <td>1</td>\n",
       "      <td>240</td>\n",
       "      <td>3</td>\n",
       "      <td>3</td>\n",
       "      <td>4</td>\n",
       "      <td>NaN</td>\n",
       "      <td>0</td>\n",
       "      <td>0</td>\n",
       "      <td>0.0</td>\n",
       "      <td>8000</td>\n",
       "      <td>1000.0</td>\n",
       "      <td>121</td>\n",
       "      <td>9121</td>\n",
       "    </tr>\n",
       "    <tr>\n",
       "      <td>1</td>\n",
       "      <td>0</td>\n",
       "      <td>64</td>\n",
       "      <td>2</td>\n",
       "      <td>1</td>\n",
       "      <td>1</td>\n",
       "      <td>10.0</td>\n",
       "      <td>0</td>\n",
       "      <td>1</td>\n",
       "      <td>540.0</td>\n",
       "      <td>820</td>\n",
       "      <td>122.0</td>\n",
       "      <td>11</td>\n",
       "      <td>1493</td>\n",
       "    </tr>\n",
       "    <tr>\n",
       "      <td>2</td>\n",
       "      <td>1</td>\n",
       "      <td>443</td>\n",
       "      <td>5</td>\n",
       "      <td>5</td>\n",
       "      <td>4</td>\n",
       "      <td>3.0</td>\n",
       "      <td>0</td>\n",
       "      <td>0</td>\n",
       "      <td>4172.0</td>\n",
       "      <td>7000</td>\n",
       "      <td>1417.0</td>\n",
       "      <td>89</td>\n",
       "      <td>12680</td>\n",
       "    </tr>\n",
       "    <tr>\n",
       "      <td>3</td>\n",
       "      <td>1</td>\n",
       "      <td>73</td>\n",
       "      <td>2</td>\n",
       "      <td>2</td>\n",
       "      <td>1</td>\n",
       "      <td>12.0</td>\n",
       "      <td>0</td>\n",
       "      <td>1</td>\n",
       "      <td>700.0</td>\n",
       "      <td>1250</td>\n",
       "      <td>150.0</td>\n",
       "      <td>16</td>\n",
       "      <td>2116</td>\n",
       "    </tr>\n",
       "    <tr>\n",
       "      <td>4</td>\n",
       "      <td>1</td>\n",
       "      <td>19</td>\n",
       "      <td>1</td>\n",
       "      <td>1</td>\n",
       "      <td>0</td>\n",
       "      <td>NaN</td>\n",
       "      <td>1</td>\n",
       "      <td>1</td>\n",
       "      <td>0.0</td>\n",
       "      <td>1200</td>\n",
       "      <td>41.0</td>\n",
       "      <td>16</td>\n",
       "      <td>1257</td>\n",
       "    </tr>\n",
       "  </tbody>\n",
       "</table>\n",
       "</div>"
      ],
      "text/plain": [
       "   city  area  rooms  bathroom  parking spaces  floor  animal  furniture  \\\n",
       "0     1   240      3         3               4    NaN       0          0   \n",
       "1     0    64      2         1               1   10.0       0          1   \n",
       "2     1   443      5         5               4    3.0       0          0   \n",
       "3     1    73      2         2               1   12.0       0          1   \n",
       "4     1    19      1         1               0    NaN       1          1   \n",
       "\n",
       "      hoa  rent amount  property tax  fire insurance  total  \n",
       "0     0.0         8000        1000.0             121   9121  \n",
       "1   540.0          820         122.0              11   1493  \n",
       "2  4172.0         7000        1417.0              89  12680  \n",
       "3   700.0         1250         150.0              16   2116  \n",
       "4     0.0         1200          41.0              16   1257  "
      ]
     },
     "execution_count": 20,
     "metadata": {},
     "output_type": "execute_result"
    }
   ],
   "source": [
    "df.head()"
   ]
  },
  {
   "cell_type": "code",
   "execution_count": 21,
   "metadata": {},
   "outputs": [
    {
     "data": {
      "text/plain": [
       "city                int64\n",
       "area                int64\n",
       "rooms               int64\n",
       "bathroom            int64\n",
       "parking spaces      int64\n",
       "floor             float64\n",
       "animal              int32\n",
       "furniture           int32\n",
       "hoa               float64\n",
       "rent amount         int64\n",
       "property tax      float64\n",
       "fire insurance      int64\n",
       "total               int64\n",
       "dtype: object"
      ]
     },
     "execution_count": 21,
     "metadata": {},
     "output_type": "execute_result"
    }
   ],
   "source": [
    "df.dtypes"
   ]
  },
  {
   "cell_type": "code",
   "execution_count": 22,
   "metadata": {},
   "outputs": [
    {
     "data": {
      "text/plain": [
       "city                 0\n",
       "area                 0\n",
       "rooms                0\n",
       "bathroom             0\n",
       "parking spaces       0\n",
       "floor             1555\n",
       "animal               0\n",
       "furniture            0\n",
       "hoa                202\n",
       "rent amount          0\n",
       "property tax        27\n",
       "fire insurance       0\n",
       "total                0\n",
       "dtype: int64"
      ]
     },
     "execution_count": 22,
     "metadata": {},
     "output_type": "execute_result"
    }
   ],
   "source": [
    "df.isna().sum()"
   ]
  },
  {
   "cell_type": "code",
   "execution_count": 23,
   "metadata": {},
   "outputs": [],
   "source": [
    "# Filling nulls in \"floor\" column with the median\n",
    "median_value = df['floor'].median()\n",
    "df['floor'] = df['floor'].fillna(median_value)"
   ]
  },
  {
   "cell_type": "code",
   "execution_count": 24,
   "metadata": {},
   "outputs": [],
   "source": [
    "df['floor'] = df['floor'].astype(int)"
   ]
  },
  {
   "cell_type": "code",
   "execution_count": 25,
   "metadata": {},
   "outputs": [
    {
     "data": {
      "text/plain": [
       "dtype('int32')"
      ]
     },
     "execution_count": 25,
     "metadata": {},
     "output_type": "execute_result"
    }
   ],
   "source": [
    "df['floor'].dtype"
   ]
  },
  {
   "cell_type": "code",
   "execution_count": 26,
   "metadata": {},
   "outputs": [
    {
     "data": {
      "text/plain": [
       "6     1861\n",
       "1      573\n",
       "3      401\n",
       "2      379\n",
       "4      319\n",
       "5      314\n",
       "8      291\n",
       "7      287\n",
       "9      224\n",
       "10     213\n",
       "11     193\n",
       "12     179\n",
       "13     143\n",
       "14     141\n",
       "15     107\n",
       "16      89\n",
       "17      73\n",
       "18      69\n",
       "19      47\n",
       "20      36\n",
       "21      30\n",
       "23      26\n",
       "25      23\n",
       "22      21\n",
       "24      11\n",
       "27       7\n",
       "28       6\n",
       "26       6\n",
       "29       4\n",
       "99       1\n",
       "32       1\n",
       "68       1\n",
       "51       1\n",
       "31       1\n",
       "35       1\n",
       "85       1\n",
       "Name: floor, dtype: int64"
      ]
     },
     "execution_count": 26,
     "metadata": {},
     "output_type": "execute_result"
    }
   ],
   "source": [
    "df['floor'].value_counts()"
   ]
  },
  {
   "cell_type": "code",
   "execution_count": 27,
   "metadata": {},
   "outputs": [
    {
     "data": {
      "text/plain": [
       "city                0\n",
       "area                0\n",
       "rooms               0\n",
       "bathroom            0\n",
       "parking spaces      0\n",
       "floor               0\n",
       "animal              0\n",
       "furniture           0\n",
       "hoa               202\n",
       "rent amount         0\n",
       "property tax       27\n",
       "fire insurance      0\n",
       "total               0\n",
       "dtype: int64"
      ]
     },
     "execution_count": 27,
     "metadata": {},
     "output_type": "execute_result"
    }
   ],
   "source": [
    "df.isna().sum()"
   ]
  },
  {
   "cell_type": "code",
   "execution_count": 28,
   "metadata": {},
   "outputs": [],
   "source": [
    "# filling nulls in \"hoa\" and \"property tax\" columns with the mean\n",
    "mean_value = df[[\"hoa\", \"property tax\"]].mean()\n",
    "df[[\"hoa\", \"property tax\"]] = df[[\"hoa\", \"property tax\"]].fillna(mean_value)"
   ]
  },
  {
   "cell_type": "code",
   "execution_count": 29,
   "metadata": {},
   "outputs": [
    {
     "data": {
      "text/plain": [
       "city              0\n",
       "area              0\n",
       "rooms             0\n",
       "bathroom          0\n",
       "parking spaces    0\n",
       "floor             0\n",
       "animal            0\n",
       "furniture         0\n",
       "hoa               0\n",
       "rent amount       0\n",
       "property tax      0\n",
       "fire insurance    0\n",
       "total             0\n",
       "dtype: int64"
      ]
     },
     "execution_count": 29,
     "metadata": {},
     "output_type": "execute_result"
    }
   ],
   "source": [
    "df.isna().sum()"
   ]
  },
  {
   "cell_type": "code",
   "execution_count": 30,
   "metadata": {},
   "outputs": [
    {
     "data": {
      "text/html": [
       "<div>\n",
       "<style scoped>\n",
       "    .dataframe tbody tr th:only-of-type {\n",
       "        vertical-align: middle;\n",
       "    }\n",
       "\n",
       "    .dataframe tbody tr th {\n",
       "        vertical-align: top;\n",
       "    }\n",
       "\n",
       "    .dataframe thead th {\n",
       "        text-align: right;\n",
       "    }\n",
       "</style>\n",
       "<table border=\"1\" class=\"dataframe\">\n",
       "  <thead>\n",
       "    <tr style=\"text-align: right;\">\n",
       "      <th></th>\n",
       "      <th>city</th>\n",
       "      <th>area</th>\n",
       "      <th>rooms</th>\n",
       "      <th>bathroom</th>\n",
       "      <th>parking spaces</th>\n",
       "      <th>floor</th>\n",
       "      <th>animal</th>\n",
       "      <th>furniture</th>\n",
       "      <th>hoa</th>\n",
       "      <th>rent amount</th>\n",
       "      <th>property tax</th>\n",
       "      <th>fire insurance</th>\n",
       "      <th>total</th>\n",
       "    </tr>\n",
       "  </thead>\n",
       "  <tbody>\n",
       "    <tr>\n",
       "      <td>count</td>\n",
       "      <td>6080.000000</td>\n",
       "      <td>6080.000000</td>\n",
       "      <td>6080.000000</td>\n",
       "      <td>6080.000000</td>\n",
       "      <td>6080.000000</td>\n",
       "      <td>6080.000000</td>\n",
       "      <td>6080.000000</td>\n",
       "      <td>6080.000000</td>\n",
       "      <td>6080.000000</td>\n",
       "      <td>6080.000000</td>\n",
       "      <td>6080.000000</td>\n",
       "      <td>6080.000000</td>\n",
       "      <td>6080.000000</td>\n",
       "    </tr>\n",
       "    <tr>\n",
       "      <td>mean</td>\n",
       "      <td>0.863322</td>\n",
       "      <td>151.143914</td>\n",
       "      <td>2.492599</td>\n",
       "      <td>2.341612</td>\n",
       "      <td>1.756250</td>\n",
       "      <td>7.206743</td>\n",
       "      <td>0.232566</td>\n",
       "      <td>0.739803</td>\n",
       "      <td>1125.830725</td>\n",
       "      <td>4395.844408</td>\n",
       "      <td>492.520568</td>\n",
       "      <td>58.204276</td>\n",
       "      <td>6033.194572</td>\n",
       "    </tr>\n",
       "    <tr>\n",
       "      <td>std</td>\n",
       "      <td>0.343535</td>\n",
       "      <td>375.559485</td>\n",
       "      <td>1.129665</td>\n",
       "      <td>1.438860</td>\n",
       "      <td>1.611909</td>\n",
       "      <td>5.243834</td>\n",
       "      <td>0.422502</td>\n",
       "      <td>0.438778</td>\n",
       "      <td>3976.240698</td>\n",
       "      <td>3576.668946</td>\n",
       "      <td>6212.478211</td>\n",
       "      <td>49.313441</td>\n",
       "      <td>8751.347700</td>\n",
       "    </tr>\n",
       "    <tr>\n",
       "      <td>min</td>\n",
       "      <td>0.000000</td>\n",
       "      <td>10.000000</td>\n",
       "      <td>1.000000</td>\n",
       "      <td>1.000000</td>\n",
       "      <td>0.000000</td>\n",
       "      <td>1.000000</td>\n",
       "      <td>0.000000</td>\n",
       "      <td>0.000000</td>\n",
       "      <td>0.000000</td>\n",
       "      <td>420.000000</td>\n",
       "      <td>0.000000</td>\n",
       "      <td>3.000000</td>\n",
       "      <td>660.000000</td>\n",
       "    </tr>\n",
       "    <tr>\n",
       "      <td>25%</td>\n",
       "      <td>1.000000</td>\n",
       "      <td>58.000000</td>\n",
       "      <td>2.000000</td>\n",
       "      <td>1.000000</td>\n",
       "      <td>1.000000</td>\n",
       "      <td>4.000000</td>\n",
       "      <td>0.000000</td>\n",
       "      <td>0.000000</td>\n",
       "      <td>260.000000</td>\n",
       "      <td>1800.000000</td>\n",
       "      <td>34.000000</td>\n",
       "      <td>23.000000</td>\n",
       "      <td>2451.500000</td>\n",
       "    </tr>\n",
       "    <tr>\n",
       "      <td>50%</td>\n",
       "      <td>1.000000</td>\n",
       "      <td>100.000000</td>\n",
       "      <td>3.000000</td>\n",
       "      <td>2.000000</td>\n",
       "      <td>1.000000</td>\n",
       "      <td>6.000000</td>\n",
       "      <td>0.000000</td>\n",
       "      <td>1.000000</td>\n",
       "      <td>710.000000</td>\n",
       "      <td>3111.000000</td>\n",
       "      <td>150.000000</td>\n",
       "      <td>41.000000</td>\n",
       "      <td>4128.500000</td>\n",
       "    </tr>\n",
       "    <tr>\n",
       "      <td>75%</td>\n",
       "      <td>1.000000</td>\n",
       "      <td>200.000000</td>\n",
       "      <td>3.000000</td>\n",
       "      <td>3.000000</td>\n",
       "      <td>2.000000</td>\n",
       "      <td>9.000000</td>\n",
       "      <td>0.000000</td>\n",
       "      <td>1.000000</td>\n",
       "      <td>1436.000000</td>\n",
       "      <td>5952.500000</td>\n",
       "      <td>459.000000</td>\n",
       "      <td>77.000000</td>\n",
       "      <td>8074.000000</td>\n",
       "    </tr>\n",
       "    <tr>\n",
       "      <td>max</td>\n",
       "      <td>1.000000</td>\n",
       "      <td>24606.000000</td>\n",
       "      <td>10.000000</td>\n",
       "      <td>10.000000</td>\n",
       "      <td>12.000000</td>\n",
       "      <td>99.000000</td>\n",
       "      <td>1.000000</td>\n",
       "      <td>1.000000</td>\n",
       "      <td>220000.000000</td>\n",
       "      <td>45000.000000</td>\n",
       "      <td>366300.000000</td>\n",
       "      <td>677.000000</td>\n",
       "      <td>372700.000000</td>\n",
       "    </tr>\n",
       "  </tbody>\n",
       "</table>\n",
       "</div>"
      ],
      "text/plain": [
       "              city          area        rooms     bathroom  parking spaces  \\\n",
       "count  6080.000000   6080.000000  6080.000000  6080.000000     6080.000000   \n",
       "mean      0.863322    151.143914     2.492599     2.341612        1.756250   \n",
       "std       0.343535    375.559485     1.129665     1.438860        1.611909   \n",
       "min       0.000000     10.000000     1.000000     1.000000        0.000000   \n",
       "25%       1.000000     58.000000     2.000000     1.000000        1.000000   \n",
       "50%       1.000000    100.000000     3.000000     2.000000        1.000000   \n",
       "75%       1.000000    200.000000     3.000000     3.000000        2.000000   \n",
       "max       1.000000  24606.000000    10.000000    10.000000       12.000000   \n",
       "\n",
       "             floor       animal    furniture            hoa   rent amount  \\\n",
       "count  6080.000000  6080.000000  6080.000000    6080.000000   6080.000000   \n",
       "mean      7.206743     0.232566     0.739803    1125.830725   4395.844408   \n",
       "std       5.243834     0.422502     0.438778    3976.240698   3576.668946   \n",
       "min       1.000000     0.000000     0.000000       0.000000    420.000000   \n",
       "25%       4.000000     0.000000     0.000000     260.000000   1800.000000   \n",
       "50%       6.000000     0.000000     1.000000     710.000000   3111.000000   \n",
       "75%       9.000000     0.000000     1.000000    1436.000000   5952.500000   \n",
       "max      99.000000     1.000000     1.000000  220000.000000  45000.000000   \n",
       "\n",
       "        property tax  fire insurance          total  \n",
       "count    6080.000000     6080.000000    6080.000000  \n",
       "mean      492.520568       58.204276    6033.194572  \n",
       "std      6212.478211       49.313441    8751.347700  \n",
       "min         0.000000        3.000000     660.000000  \n",
       "25%        34.000000       23.000000    2451.500000  \n",
       "50%       150.000000       41.000000    4128.500000  \n",
       "75%       459.000000       77.000000    8074.000000  \n",
       "max    366300.000000      677.000000  372700.000000  "
      ]
     },
     "execution_count": 30,
     "metadata": {},
     "output_type": "execute_result"
    }
   ],
   "source": [
    "df.describe()"
   ]
  },
  {
   "cell_type": "code",
   "execution_count": 31,
   "metadata": {},
   "outputs": [
    {
     "data": {
      "text/plain": [
       "(6080, 13)"
      ]
     },
     "execution_count": 31,
     "metadata": {},
     "output_type": "execute_result"
    }
   ],
   "source": [
    "df.shape"
   ]
  },
  {
   "cell_type": "code",
   "execution_count": 32,
   "metadata": {},
   "outputs": [
    {
     "data": {
      "text/html": [
       "<div>\n",
       "<style scoped>\n",
       "    .dataframe tbody tr th:only-of-type {\n",
       "        vertical-align: middle;\n",
       "    }\n",
       "\n",
       "    .dataframe tbody tr th {\n",
       "        vertical-align: top;\n",
       "    }\n",
       "\n",
       "    .dataframe thead th {\n",
       "        text-align: right;\n",
       "    }\n",
       "</style>\n",
       "<table border=\"1\" class=\"dataframe\">\n",
       "  <thead>\n",
       "    <tr style=\"text-align: right;\">\n",
       "      <th></th>\n",
       "      <th>city</th>\n",
       "      <th>area</th>\n",
       "      <th>rooms</th>\n",
       "      <th>bathroom</th>\n",
       "      <th>parking spaces</th>\n",
       "      <th>floor</th>\n",
       "      <th>animal</th>\n",
       "      <th>furniture</th>\n",
       "      <th>hoa</th>\n",
       "      <th>rent amount</th>\n",
       "      <th>property tax</th>\n",
       "      <th>fire insurance</th>\n",
       "      <th>total</th>\n",
       "    </tr>\n",
       "  </thead>\n",
       "  <tbody>\n",
       "    <tr>\n",
       "      <td>0</td>\n",
       "      <td>1</td>\n",
       "      <td>240</td>\n",
       "      <td>3</td>\n",
       "      <td>3</td>\n",
       "      <td>4</td>\n",
       "      <td>6</td>\n",
       "      <td>0</td>\n",
       "      <td>0</td>\n",
       "      <td>0.0</td>\n",
       "      <td>8000</td>\n",
       "      <td>1000.0</td>\n",
       "      <td>121</td>\n",
       "      <td>9121</td>\n",
       "    </tr>\n",
       "    <tr>\n",
       "      <td>1</td>\n",
       "      <td>0</td>\n",
       "      <td>64</td>\n",
       "      <td>2</td>\n",
       "      <td>1</td>\n",
       "      <td>1</td>\n",
       "      <td>10</td>\n",
       "      <td>0</td>\n",
       "      <td>1</td>\n",
       "      <td>540.0</td>\n",
       "      <td>820</td>\n",
       "      <td>122.0</td>\n",
       "      <td>11</td>\n",
       "      <td>1493</td>\n",
       "    </tr>\n",
       "    <tr>\n",
       "      <td>2</td>\n",
       "      <td>1</td>\n",
       "      <td>443</td>\n",
       "      <td>5</td>\n",
       "      <td>5</td>\n",
       "      <td>4</td>\n",
       "      <td>3</td>\n",
       "      <td>0</td>\n",
       "      <td>0</td>\n",
       "      <td>4172.0</td>\n",
       "      <td>7000</td>\n",
       "      <td>1417.0</td>\n",
       "      <td>89</td>\n",
       "      <td>12680</td>\n",
       "    </tr>\n",
       "    <tr>\n",
       "      <td>3</td>\n",
       "      <td>1</td>\n",
       "      <td>73</td>\n",
       "      <td>2</td>\n",
       "      <td>2</td>\n",
       "      <td>1</td>\n",
       "      <td>12</td>\n",
       "      <td>0</td>\n",
       "      <td>1</td>\n",
       "      <td>700.0</td>\n",
       "      <td>1250</td>\n",
       "      <td>150.0</td>\n",
       "      <td>16</td>\n",
       "      <td>2116</td>\n",
       "    </tr>\n",
       "    <tr>\n",
       "      <td>4</td>\n",
       "      <td>1</td>\n",
       "      <td>19</td>\n",
       "      <td>1</td>\n",
       "      <td>1</td>\n",
       "      <td>0</td>\n",
       "      <td>6</td>\n",
       "      <td>1</td>\n",
       "      <td>1</td>\n",
       "      <td>0.0</td>\n",
       "      <td>1200</td>\n",
       "      <td>41.0</td>\n",
       "      <td>16</td>\n",
       "      <td>1257</td>\n",
       "    </tr>\n",
       "  </tbody>\n",
       "</table>\n",
       "</div>"
      ],
      "text/plain": [
       "   city  area  rooms  bathroom  parking spaces  floor  animal  furniture  \\\n",
       "0     1   240      3         3               4      6       0          0   \n",
       "1     0    64      2         1               1     10       0          1   \n",
       "2     1   443      5         5               4      3       0          0   \n",
       "3     1    73      2         2               1     12       0          1   \n",
       "4     1    19      1         1               0      6       1          1   \n",
       "\n",
       "      hoa  rent amount  property tax  fire insurance  total  \n",
       "0     0.0         8000        1000.0             121   9121  \n",
       "1   540.0          820         122.0              11   1493  \n",
       "2  4172.0         7000        1417.0              89  12680  \n",
       "3   700.0         1250         150.0              16   2116  \n",
       "4     0.0         1200          41.0              16   1257  "
      ]
     },
     "execution_count": 32,
     "metadata": {},
     "output_type": "execute_result"
    }
   ],
   "source": [
    "df.head()"
   ]
  },
  {
   "cell_type": "markdown",
   "metadata": {},
   "source": [
    "# 3. Exploratory Data Analysis"
   ]
  },
  {
   "cell_type": "markdown",
   "metadata": {},
   "source": [
    "### 3.1. Categorical Features"
   ]
  },
  {
   "cell_type": "markdown",
   "metadata": {},
   "source": [
    "### 3.1.1. City"
   ]
  },
  {
   "cell_type": "markdown",
   "metadata": {},
   "source": [
    "### ANALYSING CITY FEATURE"
   ]
  },
  {
   "cell_type": "code",
   "execution_count": 33,
   "metadata": {},
   "outputs": [
    {
     "data": {
      "text/plain": [
       "1    5249\n",
       "0     831\n",
       "Name: city, dtype: int64"
      ]
     },
     "execution_count": 33,
     "metadata": {},
     "output_type": "execute_result"
    }
   ],
   "source": [
    "df[\"city\"].value_counts()"
   ]
  },
  {
   "cell_type": "code",
   "execution_count": 34,
   "metadata": {},
   "outputs": [
    {
     "data": {
      "image/png": "[encoded data removed]",
      "text/plain": [
       "<Figure size 432x432 with 1 Axes>"
      ]
     },
     "metadata": {
      "needs_background": "light"
     },
     "output_type": "display_data"
    }
   ],
   "source": [
    "df[\"city\"].value_counts().plot(kind=\"bar\", figsize=(6, 6), color=[\"darkTurquoise\", \"grey\"]);"
   ]
  },
  {
   "cell_type": "code",
   "execution_count": 35,
   "metadata": {},
   "outputs": [
    {
     "data": {
      "image/png": "[encoded data removed]",
      "text/plain": [
       "<Figure size 432x288 with 1 Axes>"
      ]
     },
     "metadata": {},
     "output_type": "display_data"
    }
   ],
   "source": [
    "size = [5249,831]\n",
    "labels = ['yes', 'no']\n",
    "colors = ['darkTurquoise', 'grey']\n",
    "explode = [0, 0.2]\n",
    "\n",
    "plt.pie(size, colors = colors, labels = labels, shadow = True, explode = explode, autopct = '%.2f%%')\n",
    "plt.title('CITY', fontsize = 20)\n",
    "plt.legend()\n",
    "plt.show()"
   ]
  },
  {
   "cell_type": "markdown",
   "metadata": {},
   "source": [
    "**OBSERVATION**\n",
    "- 86.33% of the apartments are located in cities\n",
    "- 13.67% are not located in a city"
   ]
  },
  {
   "cell_type": "code",
   "execution_count": 36,
   "metadata": {},
   "outputs": [
    {
     "data": {
      "image/png": "[encoded data removed]",
      "text/plain": [
       "<Figure size 432x288 with 1 Axes>"
      ]
     },
     "metadata": {
      "needs_background": "light"
     },
     "output_type": "display_data"
    }
   ],
   "source": [
    "sns.boxplot(x ='city', y ='rent amount', data = df);"
   ]
  },
  {
   "cell_type": "markdown",
   "metadata": {},
   "source": [
    "### 3.1.2. Animal"
   ]
  },
  {
   "cell_type": "markdown",
   "metadata": {},
   "source": [
    "### ANALYSING ANIMAL FEATURE"
   ]
  },
  {
   "cell_type": "code",
   "execution_count": 37,
   "metadata": {},
   "outputs": [
    {
     "data": {
      "text/plain": [
       "0    4666\n",
       "1    1414\n",
       "Name: animal, dtype: int64"
      ]
     },
     "execution_count": 37,
     "metadata": {},
     "output_type": "execute_result"
    }
   ],
   "source": [
    "df.animal.value_counts()"
   ]
  },
  {
   "cell_type": "code",
   "execution_count": 38,
   "metadata": {},
   "outputs": [
    {
     "data": {
      "image/png": "[encoded data removed]",
      "text/plain": [
       "<Figure size 432x432 with 1 Axes>"
      ]
     },
     "metadata": {
      "needs_background": "light"
     },
     "output_type": "display_data"
    }
   ],
   "source": [
    "df[\"animal\"].value_counts().plot(kind=\"bar\", figsize=(6, 6), color=[\"darkorange\", \"grey\"]);"
   ]
  },
  {
   "cell_type": "code",
   "execution_count": 39,
   "metadata": {},
   "outputs": [
    {
     "data": {
      "image/png": "[encoded data removed]",
      "text/plain": [
       "<Figure size 432x288 with 1 Axes>"
      ]
     },
     "metadata": {},
     "output_type": "display_data"
    }
   ],
   "source": [
    "size = [4666,1414]\n",
    "labels = ['no', 'yes']\n",
    "colors = ['darkorange', 'grey']\n",
    "explode = [0, 0.2]\n",
    "\n",
    "plt.pie(size, colors = colors, labels = labels, shadow = True, explode = explode, autopct = '%.2f%%')\n",
    "plt.title('ANIMAL', fontsize = 20)\n",
    "plt.legend()\n",
    "plt.show()"
   ]
  },
  {
   "cell_type": "markdown",
   "metadata": {},
   "source": [
    "**OBSERVATION**:\n",
    "- 23.26% of the apartments allow pets\n",
    "- 76.74% Don't allow pets"
   ]
  },
  {
   "cell_type": "code",
   "execution_count": 40,
   "metadata": {},
   "outputs": [
    {
     "data": {
      "image/png": "[encoded data removed]",
      "text/plain": [
       "<Figure size 432x288 with 1 Axes>"
      ]
     },
     "metadata": {
      "needs_background": "light"
     },
     "output_type": "display_data"
    }
   ],
   "source": [
    "sns.boxplot(x ='animal', y ='rent amount', data = df);"
   ]
  },
  {
   "cell_type": "markdown",
   "metadata": {},
   "source": [
    "### 3.1.3. Furniture"
   ]
  },
  {
   "cell_type": "markdown",
   "metadata": {},
   "source": [
    "### ANALYSING FURNITURE FEATURE"
   ]
  },
  {
   "cell_type": "code",
   "execution_count": 41,
   "metadata": {},
   "outputs": [
    {
     "data": {
      "text/plain": [
       "1    4498\n",
       "0    1582\n",
       "Name: furniture, dtype: int64"
      ]
     },
     "execution_count": 41,
     "metadata": {},
     "output_type": "execute_result"
    }
   ],
   "source": [
    "df.furniture.value_counts()"
   ]
  },
  {
   "cell_type": "code",
   "execution_count": 42,
   "metadata": {},
   "outputs": [
    {
     "data": {
      "image/png": "[encoded data removed]",
      "text/plain": [
       "<Figure size 432x432 with 1 Axes>"
      ]
     },
     "metadata": {
      "needs_background": "light"
     },
     "output_type": "display_data"
    }
   ],
   "source": [
    "df[\"furniture\"].value_counts().plot(kind=\"bar\", figsize=(6, 6), color=[\"darkgreen\", \"grey\"]);"
   ]
  },
  {
   "cell_type": "code",
   "execution_count": 43,
   "metadata": {},
   "outputs": [
    {
     "data": {
      "image/png": "[encoded data removed]",
      "text/plain": [
       "<Figure size 432x288 with 1 Axes>"
      ]
     },
     "metadata": {},
     "output_type": "display_data"
    }
   ],
   "source": [
    "size = [4498,1582]\n",
    "labels = ['yes', 'no']\n",
    "colors = ['darkgreen', 'grey']\n",
    "explode = [0, 0.1]\n",
    "\n",
    "plt.pie(size, colors = colors, labels = labels, shadow = True, explode = explode, autopct = '%.2f%%')\n",
    "plt.title('FURNITURE', fontsize = 20)\n",
    "plt.legend()\n",
    "plt.show()"
   ]
  },
  {
   "cell_type": "markdown",
   "metadata": {},
   "source": [
    "**OBSERVATION**:\n",
    "- 73.98% of the apartments have furniture\n",
    "- 26.02% don't have furniture"
   ]
  },
  {
   "cell_type": "code",
   "execution_count": 44,
   "metadata": {},
   "outputs": [
    {
     "data": {
      "image/png": "[encoded data removed]",
      "text/plain": [
       "<Figure size 432x288 with 1 Axes>"
      ]
     },
     "metadata": {
      "needs_background": "light"
     },
     "output_type": "display_data"
    }
   ],
   "source": [
    "sns.boxplot(x ='furniture', y ='rent amount', data = df);"
   ]
  },
  {
   "cell_type": "markdown",
   "metadata": {},
   "source": [
    "### 3.2. Building Features"
   ]
  },
  {
   "cell_type": "code",
   "execution_count": 45,
   "metadata": {},
   "outputs": [],
   "source": [
    "df_building = df[[\"rooms\", \"bathroom\", \"parking spaces\", \"floor\"]]"
   ]
  },
  {
   "cell_type": "markdown",
   "metadata": {},
   "source": [
    "### 3.2.1. Rooms"
   ]
  },
  {
   "cell_type": "code",
   "execution_count": 46,
   "metadata": {},
   "outputs": [
    {
     "data": {
      "image/png": "[encoded data removed]",
      "text/plain": [
       "<Figure size 432x432 with 1 Axes>"
      ]
     },
     "metadata": {
      "needs_background": "light"
     },
     "output_type": "display_data"
    }
   ],
   "source": [
    "fig, ax = plt.subplots(figsize=(6, 6))\n",
    "sns.countplot(df.rooms, order=df.rooms.value_counts().keys(), ax =ax);"
   ]
  },
  {
   "cell_type": "markdown",
   "metadata": {},
   "source": [
    "**OBSERVATION**:\n",
    "    Majority of the apartments contain 3 rooms."
   ]
  },
  {
   "cell_type": "markdown",
   "metadata": {},
   "source": [
    "- ### Rooms vs Rent Amount"
   ]
  },
  {
   "cell_type": "code",
   "execution_count": 47,
   "metadata": {},
   "outputs": [
    {
     "data": {
      "image/png": "[encoded data removed]",
      "text/plain": [
       "<Figure size 360x360 with 1 Axes>"
      ]
     },
     "metadata": {
      "needs_background": "light"
     },
     "output_type": "display_data"
    }
   ],
   "source": [
    "sns.catplot(x ='rooms', y ='rent amount', data = df);"
   ]
  },
  {
   "cell_type": "markdown",
   "metadata": {},
   "source": [
    "### 3.2.2. Bathrooms"
   ]
  },
  {
   "cell_type": "code",
   "execution_count": 48,
   "metadata": {},
   "outputs": [
    {
     "data": {
      "image/png": "[encoded data removed]",
      "text/plain": [
       "<Figure size 432x432 with 1 Axes>"
      ]
     },
     "metadata": {
      "needs_background": "light"
     },
     "output_type": "display_data"
    }
   ],
   "source": [
    "fig, ax = plt.subplots(figsize=(6, 6))\n",
    "sns.countplot(df.bathroom, order=df.bathroom.value_counts().keys(), ax =ax);"
   ]
  },
  {
   "cell_type": "markdown",
   "metadata": {},
   "source": [
    "**OBSERVATION**:\n",
    "    Majority of the apartments contain 1 bathroom."
   ]
  },
  {
   "cell_type": "markdown",
   "metadata": {},
   "source": [
    "- ### Bathrooms vs Rent Amount"
   ]
  },
  {
   "cell_type": "code",
   "execution_count": 49,
   "metadata": {},
   "outputs": [
    {
     "data": {
      "image/png": "[encoded data removed]",
      "text/plain": [
       "<Figure size 360x360 with 1 Axes>"
      ]
     },
     "metadata": {
      "needs_background": "light"
     },
     "output_type": "display_data"
    }
   ],
   "source": [
    "sns.catplot(x ='bathroom', y ='rent amount', data = df);"
   ]
  },
  {
   "cell_type": "markdown",
   "metadata": {},
   "source": [
    "### 3.2.3. Parking Spaces"
   ]
  },
  {
   "cell_type": "code",
   "execution_count": 50,
   "metadata": {},
   "outputs": [
    {
     "data": {
      "image/png": "[encoded data removed]",
      "text/plain": [
       "<Figure size 720x360 with 1 Axes>"
      ]
     },
     "metadata": {
      "needs_background": "light"
     },
     "output_type": "display_data"
    }
   ],
   "source": [
    "fig, ax = plt.subplots(figsize=(10, 5))\n",
    "sns.countplot(df[\"parking spaces\"], order=df[\"parking spaces\"].value_counts().keys(), ax =ax);"
   ]
  },
  {
   "cell_type": "markdown",
   "metadata": {},
   "source": [
    "**OBSERVATION**:\n",
    "    Majority of the apartments contain 1 parking space."
   ]
  },
  {
   "cell_type": "markdown",
   "metadata": {},
   "source": [
    "- ### Parking Space vs Rent Amount"
   ]
  },
  {
   "cell_type": "code",
   "execution_count": 51,
   "metadata": {},
   "outputs": [
    {
     "data": {
      "image/png": "[encoded data removed]",
      "text/plain": [
       "<Figure size 360x360 with 1 Axes>"
      ]
     },
     "metadata": {
      "needs_background": "light"
     },
     "output_type": "display_data"
    }
   ],
   "source": [
    "sns.catplot(x ='parking spaces', y ='rent amount', data = df);"
   ]
  },
  {
   "cell_type": "markdown",
   "metadata": {},
   "source": [
    "### 3.2.4. Floor"
   ]
  },
  {
   "cell_type": "code",
   "execution_count": 52,
   "metadata": {},
   "outputs": [
    {
     "data": {
      "image/png": "[encoded data removed]",
      "text/plain": [
       "<Figure size 720x360 with 1 Axes>"
      ]
     },
     "metadata": {
      "needs_background": "light"
     },
     "output_type": "display_data"
    }
   ],
   "source": [
    "fig, ax = plt.subplots(figsize=(10, 5))\n",
    "sns.countplot(df.floor, order=df.floor.value_counts().keys(), ax =ax);"
   ]
  },
  {
   "cell_type": "markdown",
   "metadata": {},
   "source": [
    "**OBSERVATION**:\n",
    "    Majority of the apartments contain 6 floors."
   ]
  },
  {
   "cell_type": "markdown",
   "metadata": {},
   "source": [
    "- ### Floor vs Rent Amount"
   ]
  },
  {
   "cell_type": "code",
   "execution_count": 53,
   "metadata": {},
   "outputs": [
    {
     "data": {
      "image/png": "[encoded data removed]",
      "text/plain": [
       "<Figure size 720x360 with 1 Axes>"
      ]
     },
     "metadata": {
      "needs_background": "light"
     },
     "output_type": "display_data"
    }
   ],
   "source": [
    "sns.catplot(x ='floor', y ='rent amount', data = df, height=5, aspect=2);"
   ]
  },
  {
   "cell_type": "markdown",
   "metadata": {},
   "source": [
    "### 3.3. Rent Amount"
   ]
  },
  {
   "cell_type": "code",
   "execution_count": 54,
   "metadata": {},
   "outputs": [
    {
     "data": {
      "image/png": "[encoded data removed]",
      "text/plain": [
       "<Figure size 720x360 with 1 Axes>"
      ]
     },
     "metadata": {
      "needs_background": "light"
     },
     "output_type": "display_data"
    }
   ],
   "source": [
    "plt.figure(figsize=(10,5))\n",
    "sns.distplot(df[\"rent amount\"])\n",
    "plt.show()"
   ]
  },
  {
   "cell_type": "code",
   "execution_count": 55,
   "metadata": {},
   "outputs": [
    {
     "data": {
      "image/png": "[encoded data removed]",
      "text/plain": [
       "<Figure size 864x504 with 1 Axes>"
      ]
     },
     "metadata": {
      "needs_background": "light"
     },
     "output_type": "display_data"
    }
   ],
   "source": [
    "plt.figure(figsize=(12, 7))\n",
    "\n",
    "sns.boxplot(df['rent amount'])\n",
    "plt.xticks(np.arange(df['rent amount'].min(), df['rent amount'].max(), step=4000))\n",
    "\n",
    "plt.show()"
   ]
  },
  {
   "cell_type": "markdown",
   "metadata": {},
   "source": [
    "**OBSERVATION**: \n",
    "- The data is right skewed\n",
    "- The minimum is 420\n",
    "- There are outliers"
   ]
  },
  {
   "cell_type": "markdown",
   "metadata": {},
   "source": [
    "# 4. Building Model"
   ]
  },
  {
   "cell_type": "code",
   "execution_count": null,
   "metadata": {},
   "outputs": [],
   "source": []
  }
 ],
 "metadata": {
  "kernelspec": {
   "display_name": "Python 3",
   "language": "python",
   "name": "python3"
  },
  "language_info": {
   "codemirror_mode": {
    "name": "ipython",
    "version": 3
   },
   "file_extension": ".py",
   "mimetype": "text/x-python",
   "name": "python",
   "nbconvert_exporter": "python",
   "pygments_lexer": "ipython3",
   "version": "3.7.4"
  }
 },
 "nbformat": 4,
 "nbformat_minor": 2
}
